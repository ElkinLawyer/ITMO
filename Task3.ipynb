{
 "cells": [
  {
   "cell_type": "markdown",
   "metadata": {},
   "source": [
    "Задание №3 по курсу ИТМО \"Python для анализа данных\"\n",
    "Елькина Константина Анатольевича"
   ]
  },
  {
   "cell_type": "code",
   "execution_count": 246,
   "metadata": {},
   "outputs": [],
   "source": [
    "import pandas as pd\n",
    "import numpy as np\n",
    "import pandas as pd\n",
    "\n",
    "# Считываем датафрейм\n",
    "df = pd.read_csv('train.csv')\n",
    "\n"
   ]
  },
  {
   "cell_type": "code",
   "execution_count": 247,
   "metadata": {},
   "outputs": [
    {
     "name": "stdout",
     "output_type": "stream",
     "text": [
      "<class 'pandas.core.frame.DataFrame'>\n",
      "RangeIndex: 891 entries, 0 to 890\n",
      "Data columns (total 12 columns):\n",
      " #   Column       Non-Null Count  Dtype  \n",
      "---  ------       --------------  -----  \n",
      " 0   PassengerId  891 non-null    int64  \n",
      " 1   Survived     891 non-null    int64  \n",
      " 2   Pclass       891 non-null    int64  \n",
      " 3   Name         891 non-null    object \n",
      " 4   Sex          891 non-null    object \n",
      " 5   Age          714 non-null    float64\n",
      " 6   SibSp        891 non-null    int64  \n",
      " 7   Parch        891 non-null    int64  \n",
      " 8   Ticket       891 non-null    object \n",
      " 9   Fare         891 non-null    float64\n",
      " 10  Cabin        204 non-null    object \n",
      " 11  Embarked     889 non-null    object \n",
      "dtypes: float64(2), int64(5), object(5)\n",
      "memory usage: 83.7+ KB\n",
      "None\n",
      "       PassengerId    Survived      Pclass         Age       SibSp  \\\n",
      "count   891.000000  891.000000  891.000000  714.000000  891.000000   \n",
      "mean    446.000000    0.383838    2.308642   29.699118    0.523008   \n",
      "std     257.353842    0.486592    0.836071   14.526497    1.102743   \n",
      "min       1.000000    0.000000    1.000000    0.420000    0.000000   \n",
      "25%     223.500000    0.000000    2.000000   20.125000    0.000000   \n",
      "50%     446.000000    0.000000    3.000000   28.000000    0.000000   \n",
      "75%     668.500000    1.000000    3.000000   38.000000    1.000000   \n",
      "max     891.000000    1.000000    3.000000   80.000000    8.000000   \n",
      "\n",
      "            Parch        Fare  \n",
      "count  891.000000  891.000000  \n",
      "mean     0.381594   32.204208  \n",
      "std      0.806057   49.693429  \n",
      "min      0.000000    0.000000  \n",
      "25%      0.000000    7.910400  \n",
      "50%      0.000000   14.454200  \n",
      "75%      0.000000   31.000000  \n",
      "max      6.000000  512.329200  \n"
     ]
    }
   ],
   "source": [
    "# Выводим основную информацию о датасете: \n",
    "# информацию о типах данных, число пропусков, средние значения и т.д\n",
    "print(df.info())\n",
    "print(df.describe())"
   ]
  },
  {
   "cell_type": "code",
   "execution_count": 248,
   "metadata": {},
   "outputs": [
    {
     "name": "stdout",
     "output_type": "stream",
     "text": [
      "Pclass\n",
      "1    62.962963\n",
      "2    47.282609\n",
      "3    24.236253\n",
      "Name: Survived, dtype: float64\n"
     ]
    }
   ],
   "source": [
    "# Считаем процент выживаемости у каждого класса пассажиров\n",
    "survival_rate = df.groupby('Pclass')['Survived'].mean() * 100\n",
    "print(survival_rate)"
   ]
  },
  {
   "cell_type": "code",
   "execution_count": 249,
   "metadata": {},
   "outputs": [],
   "source": [
    "def extract_maleName(name):\n",
    "    \"\"\"\n",
    "    Функция для извлечения мужского имени из строки.\n",
    "    Метод GitHub Copilot\n",
    "    \"\"\"\n",
    "    firstName = name.split(',')[1].split()[1]\n",
    "    \n",
    "    return firstName\n",
    "\n",
    "def extract_femaleName(name):\n",
    "    \"\"\"\n",
    "    Функция для извлечения женского имени из строки.\n",
    "    https://ru.stackoverflow.com/questions/1082775\n",
    "    \"\"\"\n",
    "    \n",
    "    firstName = name.str.extract(r\"Mrs\\.\\s+[^(]*\\((\\w+)\", expand=False)\n",
    "    firstName.loc[firstName.isna()] = name.str.extract(r\"\\.\\s+(\\w+)\", expand=False)\n",
    "    \n",
    "    return firstName\n",
    "\n",
    "# Создаем отдельные DataFrame для мужчин и женщин\n",
    "df_men = df[df['Sex'] == 'male'].copy()\n",
    "df_women = df[df['Sex'] == 'female'].copy()\n",
    "\n",
    "# Применяем соответствующие функции к столбцу 'Name' в каждом DataFrame\n",
    "df_men['FirstName'] = df['Name'].apply(extract_maleName)\n",
    "df_women['FirstName'] = extract_femaleName(df_women['Name'])\n",
    "\n",
    "    \n",
    "# print(df_men[['FirstName', 'Name']])\n",
    "# print(df_women[['FirstName', 'Name']])"
   ]
  },
  {
   "cell_type": "code",
   "execution_count": 250,
   "metadata": {},
   "outputs": [
    {
     "name": "stdout",
     "output_type": "stream",
     "text": [
      "Самое популярное имя: мужское - William и женское - Anna\n"
     ]
    }
   ],
   "source": [
    "# Ищем самое популярное мужское и женское имя\n",
    "\n",
    "popular_maleName = df_men['FirstName'].value_counts().idxmax()\n",
    "popular_femaleName = df_women['FirstName'].value_counts().idxmax()\n",
    "\n",
    "print(\"Самое популярное имя:\", \"мужское -\", popular_maleName, \"и женское -\", popular_femaleName)"
   ]
  },
  {
   "cell_type": "code",
   "execution_count": 251,
   "metadata": {},
   "outputs": [
    {
     "name": "stdout",
     "output_type": "stream",
     "text": [
      "Pclass  Sex   \n",
      "1       female    Elizabeth\n",
      "        male        William\n",
      "2       female    Elizabeth\n",
      "        male        William\n",
      "3       female         Anna\n",
      "        male        William\n",
      "Name: FirstName, dtype: object\n"
     ]
    }
   ],
   "source": [
    "# Объединяем DataFrame c FirstName для мужчин и женщин\n",
    "merged_df = pd.concat([df_men, df_women])\n",
    "\n",
    "# Выведите самое популярное мужское и самое популярное женское имя на корабле в каждом классе\n",
    "popular_names_by_class = merged_df.groupby(['Pclass', 'Sex'])['FirstName'].agg(lambda x: x.value_counts().idxmax())\n",
    "print(popular_names_by_class)"
   ]
  },
  {
   "cell_type": "code",
   "execution_count": 252,
   "metadata": {},
   "outputs": [
    {
     "name": "stdout",
     "output_type": "stream",
     "text": [
      "     PassengerId                                               Name   Age\n",
      "6              7                            McCarthy, Mr. Timothy J  54.0\n",
      "11            12                           Bonnell, Miss. Elizabeth  58.0\n",
      "15            16                   Hewlett, Mrs. (Mary D Kingcome)   55.0\n",
      "33            34                              Wheadon, Mr. Edward H  66.0\n",
      "52            53           Harper, Mrs. Henry Sleeper (Myna Haxtun)  49.0\n",
      "..           ...                                                ...   ...\n",
      "857          858                             Daly, Mr. Peter Denis   51.0\n",
      "862          863  Swift, Mrs. Frederick Joel (Margaret Welles Ba...  48.0\n",
      "871          872   Beckwith, Mrs. Richard Leonard (Sallie Monypeny)  47.0\n",
      "873          874                        Vander Cruyssen, Mr. Victor  47.0\n",
      "879          880      Potter, Mrs. Thomas Jr (Lily Alexenia Wilson)  56.0\n",
      "\n",
      "[115 rows x 3 columns]\n"
     ]
    }
   ],
   "source": [
    "# Выводим часть датафрейма df с полями PassengerID, Name и Age пассажиов, возраст которых больше 44 лет\n",
    "print(df[df['Age'] > 44][['PassengerId', 'Name', 'Age']])\n"
   ]
  },
  {
   "cell_type": "code",
   "execution_count": 253,
   "metadata": {},
   "outputs": [
    {
     "name": "stdout",
     "output_type": "stream",
     "text": [
      "     PassengerId                            Name   Sex   Age\n",
      "0              1         Braund, Mr. Owen Harris  male  22.0\n",
      "4              5        Allen, Mr. William Henry  male  35.0\n",
      "7              8  Palsson, Master. Gosta Leonard  male   2.0\n",
      "12            13  Saundercock, Mr. William Henry  male  20.0\n",
      "13            14     Andersson, Mr. Anders Johan  male  39.0\n",
      "..           ...                             ...   ...   ...\n",
      "883          884   Banfield, Mr. Frederick James  male  28.0\n",
      "884          885          Sutehall, Mr. Henry Jr  male  25.0\n",
      "886          887           Montvila, Rev. Juozas  male  27.0\n",
      "889          890           Behr, Mr. Karl Howell  male  26.0\n",
      "890          891             Dooley, Mr. Patrick  male  32.0\n",
      "\n",
      "[368 rows x 4 columns]\n"
     ]
    }
   ],
   "source": [
    "# Выводим часть таблицы с пассажирами, возраст которых меньше 44 лет и которые мужского пола\n",
    "print(df[(df['Age'] < 44) & (df['Sex'] == 'male')][['PassengerId', 'Name', 'Sex', 'Age']])"
   ]
  },
  {
   "cell_type": "code",
   "execution_count": 254,
   "metadata": {},
   "outputs": [
    {
     "name": "stdout",
     "output_type": "stream",
     "text": [
      "<bound method Series.sum of Series([], Name: count, dtype: int64)>\n"
     ]
    }
   ],
   "source": [
    "# Приводим в порядок значения в столбце 'Cabin'\n",
    "df['Cabin'] = pd.to_numeric(df['Cabin'], errors='coerce').fillna(0).astype(int)\n",
    "\n",
    "# Определяем многоместные каюты\n",
    "multi_room = df[df['Cabin'] > 1]\n",
    "\n",
    "# Выводим количество многоместных кают\n",
    "print(multi_room.value_counts().sum)"
   ]
  }
 ],
 "metadata": {
  "kernelspec": {
   "display_name": "Python 3",
   "language": "python",
   "name": "python3"
  },
  "language_info": {
   "codemirror_mode": {
    "name": "ipython",
    "version": 3
   },
   "file_extension": ".py",
   "mimetype": "text/x-python",
   "name": "python",
   "nbconvert_exporter": "python",
   "pygments_lexer": "ipython3",
   "version": "3.12.3"
  }
 },
 "nbformat": 4,
 "nbformat_minor": 2
}
