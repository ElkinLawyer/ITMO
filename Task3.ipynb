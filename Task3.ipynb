{
 "cells": [
  {
   "cell_type": "markdown",
   "metadata": {},
   "source": [
    "Задание №3 по курсу ИТМО \"Python для анализа данных\"\n",
    "Елькина Константина Анатольевича"
   ]
  },
  {
   "cell_type": "code",
   "execution_count": 2,
   "metadata": {},
   "outputs": [],
   "source": [
    "import pandas as pd\n",
    "import numpy as np\n",
    "\n",
    "# Считываем данные\n",
    "df = pd.read_csv('train.csv')"
   ]
  },
  {
   "cell_type": "code",
   "execution_count": 3,
   "metadata": {},
   "outputs": [
    {
     "name": "stdout",
     "output_type": "stream",
     "text": [
      "<class 'pandas.core.frame.DataFrame'>\n",
      "RangeIndex: 891 entries, 0 to 890\n",
      "Data columns (total 12 columns):\n",
      " #   Column       Non-Null Count  Dtype  \n",
      "---  ------       --------------  -----  \n",
      " 0   PassengerId  891 non-null    int64  \n",
      " 1   Survived     891 non-null    int64  \n",
      " 2   Pclass       891 non-null    int64  \n",
      " 3   Name         891 non-null    object \n",
      " 4   Sex          891 non-null    object \n",
      " 5   Age          714 non-null    float64\n",
      " 6   SibSp        891 non-null    int64  \n",
      " 7   Parch        891 non-null    int64  \n",
      " 8   Ticket       891 non-null    object \n",
      " 9   Fare         891 non-null    float64\n",
      " 10  Cabin        204 non-null    object \n",
      " 11  Embarked     889 non-null    object \n",
      "dtypes: float64(2), int64(5), object(5)\n",
      "memory usage: 83.7+ KB\n",
      "None\n",
      "       PassengerId    Survived      Pclass         Age       SibSp  \\\n",
      "count   891.000000  891.000000  891.000000  714.000000  891.000000   \n",
      "mean    446.000000    0.383838    2.308642   29.699118    0.523008   \n",
      "std     257.353842    0.486592    0.836071   14.526497    1.102743   \n",
      "min       1.000000    0.000000    1.000000    0.420000    0.000000   \n",
      "25%     223.500000    0.000000    2.000000   20.125000    0.000000   \n",
      "50%     446.000000    0.000000    3.000000   28.000000    0.000000   \n",
      "75%     668.500000    1.000000    3.000000   38.000000    1.000000   \n",
      "max     891.000000    1.000000    3.000000   80.000000    8.000000   \n",
      "\n",
      "            Parch        Fare  \n",
      "count  891.000000  891.000000  \n",
      "mean     0.381594   32.204208  \n",
      "std      0.806057   49.693429  \n",
      "min      0.000000    0.000000  \n",
      "25%      0.000000    7.910400  \n",
      "50%      0.000000   14.454200  \n",
      "75%      0.000000   31.000000  \n",
      "max      6.000000  512.329200  \n"
     ]
    }
   ],
   "source": [
    "# Выводим основную информацию о датасете\n",
    "print(df.info())\n",
    "print(df.describe())"
   ]
  },
  {
   "cell_type": "code",
   "execution_count": 4,
   "metadata": {},
   "outputs": [
    {
     "name": "stdout",
     "output_type": "stream",
     "text": [
      "Pclass\n",
      "1    62.962963\n",
      "2    47.282609\n",
      "3    24.236253\n",
      "Name: Survived, dtype: float64\n"
     ]
    }
   ],
   "source": [
    "# Считаем процент выживаемости для каждого класса пассажиров\n",
    "survival_rate = df.groupby('Pclass')['Survived'].mean() * 100\n",
    "print(survival_rate)"
   ]
  },
  {
   "cell_type": "code",
   "execution_count": 5,
   "metadata": {},
   "outputs": [
    {
     "name": "stdout",
     "output_type": "stream",
     "text": [
      "William William\n"
     ]
    }
   ],
   "source": [
    "# Ищем самое популярное мужское и женское имя на корабле\n",
    "df['Name'] = df['Name'].apply(lambda x: x.split(',')[1].split()[1])\n",
    "popular_male_name = df[df['Sex'] == 'male']['Name'].value_counts().idxmax()\n",
    "popular_female_name = df[df['Sex'] == 'female']['Name'].value_counts().idxmax()\n",
    "print(popular_male_name, popular_female_name)"
   ]
  },
  {
   "cell_type": "code",
   "execution_count": 6,
   "metadata": {},
   "outputs": [
    {
     "name": "stdout",
     "output_type": "stream",
     "text": [
      "Pclass  Sex   \n",
      "1       female       John\n",
      "        male      William\n",
      "2       female    William\n",
      "        male      William\n",
      "3       female       Anna\n",
      "        male      William\n",
      "Name: Name, dtype: object\n"
     ]
    }
   ],
   "source": [
    "# Ищем самое популярное мужское и женское имя на корабле в каждом классе\n",
    "popular_names_by_class = df.groupby(['Pclass', 'Sex'])['Name'].agg(lambda x: x.value_counts().idxmax())\n",
    "print(popular_names_by_class)"
   ]
  },
  {
   "cell_type": "code",
   "execution_count": 7,
   "metadata": {},
   "outputs": [
    {
     "name": "stdout",
     "output_type": "stream",
     "text": [
      "     PassengerId  Survived  Pclass       Name     Sex   Age  SibSp  Parch  \\\n",
      "6              7         0       1    Timothy    male  54.0      0      0   \n",
      "11            12         1       1  Elizabeth  female  58.0      0      0   \n",
      "15            16         1       2      (Mary  female  55.0      0      0   \n",
      "33            34         0       2     Edward    male  66.0      0      0   \n",
      "52            53         1       1      Henry  female  49.0      1      0   \n",
      "..           ...       ...     ...        ...     ...   ...    ...    ...   \n",
      "857          858         1       1      Peter    male  51.0      0      0   \n",
      "862          863         1       1  Frederick  female  48.0      0      0   \n",
      "871          872         1       1    Richard  female  47.0      1      1   \n",
      "873          874         0       3     Victor    male  47.0      0      0   \n",
      "879          880         1       1     Thomas  female  56.0      0      1   \n",
      "\n",
      "         Ticket     Fare Cabin Embarked  \n",
      "6         17463  51.8625   E46        S  \n",
      "11       113783  26.5500  C103        S  \n",
      "15       248706  16.0000   NaN        S  \n",
      "33   C.A. 24579  10.5000   NaN        S  \n",
      "52     PC 17572  76.7292   D33        C  \n",
      "..          ...      ...   ...      ...  \n",
      "857      113055  26.5500   E17        S  \n",
      "862       17466  25.9292   D17        S  \n",
      "871       11751  52.5542   D35        S  \n",
      "873      345765   9.0000   NaN        S  \n",
      "879       11767  83.1583   C50        C  \n",
      "\n",
      "[115 rows x 12 columns]\n"
     ]
    }
   ],
   "source": [
    "# Выводим часть таблицы с пассажирами, возраст которых больше 44 лет\n",
    "print(df[df['Age'] > 44])"
   ]
  },
  {
   "cell_type": "code",
   "execution_count": 8,
   "metadata": {},
   "outputs": [
    {
     "name": "stdout",
     "output_type": "stream",
     "text": [
      "     PassengerId  Survived  Pclass       Name   Sex   Age  SibSp  Parch  \\\n",
      "0              1         0       3       Owen  male  22.0      1      0   \n",
      "4              5         0       3    William  male  35.0      0      0   \n",
      "7              8         0       3      Gosta  male   2.0      3      1   \n",
      "12            13         0       3    William  male  20.0      0      0   \n",
      "13            14         0       3     Anders  male  39.0      1      5   \n",
      "..           ...       ...     ...        ...   ...   ...    ...    ...   \n",
      "883          884         0       2  Frederick  male  28.0      0      0   \n",
      "884          885         0       3      Henry  male  25.0      0      0   \n",
      "886          887         0       2     Juozas  male  27.0      0      0   \n",
      "889          890         1       1       Karl  male  26.0      0      0   \n",
      "890          891         0       3    Patrick  male  32.0      0      0   \n",
      "\n",
      "               Ticket    Fare Cabin Embarked  \n",
      "0           A/5 21171   7.250   NaN        S  \n",
      "4              373450   8.050   NaN        S  \n",
      "7              349909  21.075   NaN        S  \n",
      "12          A/5. 2151   8.050   NaN        S  \n",
      "13             347082  31.275   NaN        S  \n",
      "..                ...     ...   ...      ...  \n",
      "883  C.A./SOTON 34068  10.500   NaN        S  \n",
      "884   SOTON/OQ 392076   7.050   NaN        S  \n",
      "886            211536  13.000   NaN        S  \n",
      "889            111369  30.000  C148        C  \n",
      "890            370376   7.750   NaN        Q  \n",
      "\n",
      "[368 rows x 12 columns]\n"
     ]
    }
   ],
   "source": [
    "# Выводим часть таблицы с пассажирами, возраст которых меньше 44 лет и которые мужского пола\n",
    "print(df[(df['Age'] < 44) & (df['Sex'] == 'male')])"
   ]
  },
  {
   "cell_type": "code",
   "execution_count": 9,
   "metadata": {},
   "outputs": [
    {
     "name": "stdout",
     "output_type": "stream",
     "text": [
      "Cabin\n",
      "1.0    180\n",
      "2.0     16\n",
      "3.0      6\n",
      "4.0      2\n",
      "Name: count, dtype: int64\n"
     ]
    }
   ],
   "source": [
    "# Выводим количество n-местных кабин\n",
    "df['Cabin'] = df['Cabin'].apply(lambda x: str(x).count(' ') + 1 if str(x) != 'nan' else np.nan)\n",
    "print(df['Cabin'].value_counts())"
   ]
  }
 ],
 "metadata": {
  "kernelspec": {
   "display_name": "Python 3",
   "language": "python",
   "name": "python3"
  },
  "language_info": {
   "codemirror_mode": {
    "name": "ipython",
    "version": 3
   },
   "file_extension": ".py",
   "mimetype": "text/x-python",
   "name": "python",
   "nbconvert_exporter": "python",
   "pygments_lexer": "ipython3",
   "version": "3.12.2"
  }
 },
 "nbformat": 4,
 "nbformat_minor": 2
}
