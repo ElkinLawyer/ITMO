{
  "cells": [
    {
      "cell_type": "markdown",
      "metadata": {
        "colab_type": "text",
        "id": "view-in-github"
      },
      "source": [
        "<a href=\"https://colab.research.google.com/github/ElkinLawyer/ITMO/blob/main/Task1.ipynb\" target=\"_parent\"><img src=\"https://colab.research.google.com/assets/colab-badge.svg\" alt=\"Open In Colab\"/></a>"
      ]
    },
    {
      "cell_type": "markdown",
      "metadata": {
        "id": "7KagzHzFjSRJ"
      },
      "source": [
        "Задание №1 по курсу ИТМО \"Python для анализа данных\"\n",
        "Елькина Константина Анатольевича"
      ]
    },
    {
      "cell_type": "code",
      "execution_count": 1,
      "metadata": {
        "colab": {
          "base_uri": "https://localhost:8080/"
        },
        "id": "nMjcDZ2Rif1l",
        "outputId": "f23962d5-1c19-4640-f9b0-8d0660ede7d8"
      },
      "outputs": [
        {
          "name": "stdout",
          "output_type": "stream",
          "text": [
            "Шоколадный батончик, 100 рублей\n",
            "Шоколадный батончик, добавка: карамель\n",
            "Шоколадный батончик, 80 рублей\n",
            "Обычный шоколадный батончик\n",
            "Цена должна быть больше нуля.\n"
          ]
        }
      ],
      "source": [
        "class Chocolate:\n",
        "    def __init__(self, price: float, addition: str = None):\n",
        "        if price <= 0:\n",
        "            raise ValueError(\"Цена должна быть больше нуля.\")\n",
        "        self.price = price\n",
        "        self.addition = addition\n",
        "\n",
        "    def show_my_chocolate(self):\n",
        "        if self.addition:\n",
        "            return f\"Шоколадный батончик, добавка: {self.addition}\"\n",
        "        else:\n",
        "            return \"Обычный шоколадный батончик\"\n",
        "\n",
        "    def __str__(self):\n",
        "        return f\"Шоколадный батончик, {self.price} рублей\"\n",
        "\n",
        "\n",
        "choco1 = Chocolate(100, \"карамель\")\n",
        "print(choco1)\n",
        "print(choco1.show_my_chocolate())\n",
        "\n",
        "choco2 = Chocolate(80)\n",
        "print(choco2)\n",
        "print(choco2.show_my_chocolate())\n",
        "\n",
        "try:\n",
        "    choco_wrong = Chocolate(-20)\n",
        "except ValueError as e:\n",
        "    print(e)\n"
      ]
    },
    {
      "cell_type": "markdown",
      "metadata": {
        "id": "BYAN9UQ9j0cP"
      },
      "source": [
        "Использовал IDE-среду VS Code.\n",
        "Из локального GitHub."
      ]
    }
  ],
  "metadata": {
    "colab": {
      "authorship_tag": "ABX9TyPjCGGxOgUFlRoKTyigGjjN",
      "include_colab_link": true,
      "provenance": []
    },
    "kernelspec": {
      "display_name": "Python 3",
      "name": "python3"
    },
    "language_info": {
      "codemirror_mode": {
        "name": "ipython",
        "version": 3
      },
      "file_extension": ".py",
      "mimetype": "text/x-python",
      "name": "python",
      "nbconvert_exporter": "python",
      "pygments_lexer": "ipython3",
      "version": "3.12.2"
    }
  },
  "nbformat": 4,
  "nbformat_minor": 0
}
